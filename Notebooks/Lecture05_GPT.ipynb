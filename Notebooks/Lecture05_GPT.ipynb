{
 "cells": [
  {
   "cell_type": "code",
   "execution_count": null,
   "id": "f015baec",
   "metadata": {},
   "outputs": [],
   "source": [
    "# Lecture 5 Notebook Generator: MCMC"
   ]
  },
  {
   "cell_type": "markdown",
   "id": "bb36debf",
   "metadata": {},
   "source": [
    "# Lecture 5 Notebook: MCMC\n",
    "This notebook generates all figures used in Lecture 5. Each slide is marked by its title. \n",
    "Missing figures are marked with clear prompts to be implemented later."
   ]
  },
  {
   "cell_type": "code",
   "execution_count": 2,
   "id": "f5d557c6",
   "metadata": {
    "lines_to_next_cell": 1
   },
   "outputs": [],
   "source": [
    "# ## Standard Imports\n",
    "import numpy as np\n",
    "import matplotlib.pyplot as plt\n",
    "import arviz as az\n",
    "import preliz as pz\n",
    "\n",
    "az.style.use(\"arviz-docgrid\")\n",
    "plt.rc(\"figure\", dpi=150)\n",
    "np.random.seed(123)"
   ]
  },
  {
   "cell_type": "markdown",
   "id": "17ca4cb6",
   "metadata": {},
   "source": [
    "## Section 5A: Bayesian Workflow Recap (Figures from slides)"
   ]
  },
  {
   "cell_type": "markdown",
   "id": "ea0d97a3",
   "metadata": {},
   "source": [
    "No figure generation required for these slides."
   ]
  },
  {
   "cell_type": "markdown",
   "id": "19f8516a",
   "metadata": {},
   "source": [
    "## Section 5B: Why Sampling? (Figures from slides or schematic)"
   ]
  },
  {
   "cell_type": "markdown",
   "id": "eacfc7b0",
   "metadata": {},
   "source": [
    "No figure generation required for these slides."
   ]
  },
  {
   "cell_type": "markdown",
   "id": "cfbe5278",
   "metadata": {},
   "source": [
    "## Section 5C: Grid Approximation"
   ]
  },
  {
   "cell_type": "markdown",
   "id": "df33e441",
   "metadata": {},
   "source": [
    "### Slide: Visual Example: Coin Flip Grid Posterior"
   ]
  },
  {
   "cell_type": "code",
   "execution_count": null,
   "id": "49427a10",
   "metadata": {
    "lines_to_next_cell": 1
   },
   "outputs": [],
   "source": [
    "def posterior_grid(grid_points=50, heads=6, tails=9):\n",
    "    grid = np.linspace(0, 1, grid_points)\n",
    "    prior = np.repeat(1/grid_points, grid_points)\n",
    "    likelihood = pz.Binomial(n=heads+tails, p=grid).pdf(heads)\n",
    "    posterior = likelihood * prior\n",
    "    posterior /= posterior.sum() * (1/grid_points)\n",
    "    return grid, posterior\n",
    "\n",
    "heads, tails = 3, 10\n",
    "points = 10\n",
    "grid, posterior = posterior_grid(points, heads, tails)\n",
    "\n",
    "plt.figure()\n",
    "plt.plot(grid, posterior, 'o-')\n",
    "plt.title(f'Grid Posterior: Heads={heads}, Tails={tails}')\n",
    "plt.xlabel('θ')\n",
    "plt.yticks([])\n",
    "plt.savefig('figs/grid_coin_flip.png')\n",
    "plt.show()"
   ]
  },
  {
   "cell_type": "markdown",
   "id": "bc833827",
   "metadata": {},
   "source": [
    "## Section 5D: Enter MCMC"
   ]
  },
  {
   "cell_type": "markdown",
   "id": "5efe5ae2",
   "metadata": {},
   "source": [
    "PROMPT: Generate a schematic diagram of a simple Markov Chain process. Show a sequence of states with arrows indicating transitions and highlight the memoryless property (Slide 5D2)"
   ]
  },
  {
   "cell_type": "markdown",
   "id": "7843c8a0",
   "metadata": {},
   "source": [
    "PROMPT: Create a plot showing random sampling points scattered to approximate a target distribution (Slide 5D3)"
   ]
  },
  {
   "cell_type": "markdown",
   "id": "a1438c17",
   "metadata": {},
   "source": [
    "PROMPT: Plot a simple trace plot showing a random walk behavior, labeled to emphasize sample dependence (Slide 5D4)"
   ]
  },
  {
   "cell_type": "markdown",
   "id": "0e809670",
   "metadata": {},
   "source": [
    "## Section 5E: Metropolis Algorithm"
   ]
  },
  {
   "cell_type": "markdown",
   "id": "1dec2418",
   "metadata": {},
   "source": [
    "### Slide: Walkthrough: Sampling Beta(2,5)"
   ]
  },
  {
   "cell_type": "code",
   "execution_count": null,
   "id": "be7e6e08",
   "metadata": {},
   "outputs": [],
   "source": [
    "def metropolis(dist, draws=1000):\n",
    "    trace = np.zeros(draws)\n",
    "    old_x = 0.5\n",
    "    old_prob = dist.pdf(old_x)\n",
    "    delta = np.random.normal(0, 0.5, draws)\n",
    "    for i in range(draws):\n",
    "        new_x = old_x + delta[i]\n",
    "        new_prob = dist.pdf(new_x)\n",
    "        acceptance = new_prob / old_prob\n",
    "        if acceptance >= np.random.random():\n",
    "            trace[i] = new_x\n",
    "            old_x = new_x\n",
    "            old_prob = new_prob\n",
    "        else:\n",
    "            trace[i] = old_x\n",
    "    return trace\n",
    "\n",
    "np.random.seed(3)\n",
    "dist = pz.Beta(2, 5)\n",
    "trace = metropolis(dist)\n",
    "\n",
    "ax = dist.plot_pdf(legend=False)\n",
    "ax.hist(trace, bins=\"auto\", density=True, label='Estimated distribution')\n",
    "ax.set_xlabel('x')\n",
    "ax.set_ylabel('pdf(x)')\n",
    "plt.legend()\n",
    "plt.savefig('figs/metropolis_beta.png')\n",
    "plt.show()"
   ]
  },
  {
   "cell_type": "markdown",
   "id": "ca49287e",
   "metadata": {},
   "source": [
    "### Slide: Trace Plot: Convergence Behavior"
   ]
  },
  {
   "cell_type": "code",
   "execution_count": null,
   "id": "b6980c96",
   "metadata": {},
   "outputs": [],
   "source": [
    "plt.figure()\n",
    "plt.plot(trace, color=\"C0\")\n",
    "plt.title(\"Metropolis Trace Plot\")\n",
    "plt.xlabel(\"Iteration\")\n",
    "plt.ylabel(\"Sampled x\")\n",
    "plt.savefig('figs/metropolis_trace.png')\n",
    "plt.show()"
   ]
  },
  {
   "cell_type": "markdown",
   "id": "450bccf1",
   "metadata": {},
   "source": [
    "## Section 5F: Diagnosing Chains (Figures mostly from slides)"
   ]
  },
  {
   "cell_type": "markdown",
   "id": "30f65729",
   "metadata": {},
   "source": [
    "PROMPT: Generate data from a mixture of two well-separated Gaussians, plot the histogram of the data and overlay a single Gaussian model fit to illustrate model misspecification (Slide 5F11)"
   ]
  },
  {
   "cell_type": "markdown",
   "id": "7d560f19",
   "metadata": {},
   "source": [
    "PROMPT: Using the mixture data, fit a naive single Gaussian model using PyMC, run MCMC sampling, and plot trace plots, R-hat, and ESS diagnostics showing poor sampling behavior (Slide 5F12)"
   ]
  },
  {
   "cell_type": "markdown",
   "id": "65fffcb2",
   "metadata": {},
   "source": [
    "## Section 5G-H-I-J (Additional Prompts)"
   ]
  },
  {
   "cell_type": "markdown",
   "id": "b4a80174",
   "metadata": {},
   "source": [
    "PROMPT: Create a visualization of the geometric cause of divergences in HMC, showing posterior contours and trajectories getting stuck (Slide 5H2)"
   ]
  },
  {
   "cell_type": "markdown",
   "id": "724feedd",
   "metadata": {},
   "source": [
    "PROMPT: Visualize prior predictive mismatch: Generate prior predictive samples from an inappropriately tight prior and overlay them against typical observed data range to show mismatch (Slide 5I2)"
   ]
  },
  {
   "cell_type": "markdown",
   "id": "02a4acb3",
   "metadata": {},
   "source": [
    "PROMPT: Create a schematic of gradient steps in HMC, showing position, momentum vectors, and how gradient guides steps (Slide 5G4)"
   ]
  },
  {
   "cell_type": "markdown",
   "id": "48f34ac4",
   "metadata": {},
   "source": [
    "PROMPT: Visualize HMC trajectories: Plot a 2D posterior landscape with multiple HMC trajectories showing efficient long-distance movement (Slide 5G6)"
   ]
  },
  {
   "cell_type": "markdown",
   "id": "e01f67f1",
   "metadata": {},
   "source": [
    "PROMPT: Create a plot showing different HMC step sizes and trajectory lengths, illustrating how step size impacts sampling efficiency and divergence (Slide 5G8)"
   ]
  },
  {
   "cell_type": "markdown",
   "id": "c4d1a396",
   "metadata": {},
   "source": [
    "PROMPT: Visualize historical photo or illustration of the original Metropolis team or a placeholder image labeled 'Metropolis Algorithm History' (Slide 5E1)"
   ]
  }
 ],
 "metadata": {
  "jupytext": {
   "cell_metadata_filter": "-all",
   "main_language": "python",
   "notebook_metadata_filter": "-all"
  },
  "kernelspec": {
   "display_name": "default",
   "language": "python",
   "name": "python3"
  },
  "language_info": {
   "codemirror_mode": {
    "name": "ipython",
    "version": 3
   },
   "file_extension": ".py",
   "mimetype": "text/x-python",
   "name": "python",
   "nbconvert_exporter": "python",
   "pygments_lexer": "ipython3",
   "version": "3.13.2"
  }
 },
 "nbformat": 4,
 "nbformat_minor": 5
}

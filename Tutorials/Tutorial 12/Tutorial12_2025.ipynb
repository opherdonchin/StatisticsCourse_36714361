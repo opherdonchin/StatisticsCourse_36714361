{
  "nbformat": 4,
  "nbformat_minor": 0,
  "metadata": {
    "colab": {
      "provenance": [],
      "collapsed_sections": [
        "hHutufdedGBP",
        "QzejwEQedZKL",
        "cnfEgnL7d9UJ",
        "yEUKAj4jfE_U"
      ]
    },
    "kernelspec": {
      "name": "python3",
      "display_name": "Python 3"
    },
    "language_info": {
      "name": "python"
    }
  },
  "cells": [
    {
      "cell_type": "markdown",
      "source": [
        "# **Tutorial 12**\n"
      ],
      "metadata": {
        "id": "ngO3G-9qcO1J"
      }
    },
    {
      "cell_type": "markdown",
      "source": [
        "### Imports"
      ],
      "metadata": {
        "id": "6nCqdhuncSD3"
      }
    },
    {
      "cell_type": "code",
      "execution_count": null,
      "metadata": {
        "id": "wFNjVPijcK1N"
      },
      "outputs": [],
      "source": [
        "import numpy as np\n",
        "import pandas as pd\n",
        "import matplotlib.pyplot as plt\n",
        "from google.colab import files\n",
        "import io\n",
        "import scipy.stats as stats\n",
        "import seaborn as sns\n",
        "from sklearn.linear_model import LinearRegression #for linear regression model\n",
        "import random as rd #random"
      ]
    },
    {
      "cell_type": "markdown",
      "source": [
        "### Spikes Example"
      ],
      "metadata": {
        "id": "hHutufdedGBP"
      }
    },
    {
      "cell_type": "markdown",
      "source": [
        "loading the data for the spikes example (in the tutorial folder)\n"
      ],
      "metadata": {
        "id": "qkBrosmNcbtD"
      }
    },
    {
      "cell_type": "code",
      "source": [
        "#upload and read from PC/Drive\n",
        "# after running press 'Choose File'\n",
        "\n",
        "uploaded = files.upload()\n",
        "\n",
        "data = pd.read_csv(io.BytesIO(uploaded['numSpikes.csv']))\n",
        "\n",
        "for col in data.columns: # see names of the columns in a loop\n",
        "    print(col)\n",
        "\n",
        "print(data)"
      ],
      "metadata": {
        "id": "02cb9WLBcYaD"
      },
      "execution_count": null,
      "outputs": []
    },
    {
      "cell_type": "code",
      "source": [
        "# plot original data, calculate mean\n",
        "spikes_data = data.numSpikes\n",
        "data_len = len(spikes_data)\n",
        "data_mean = data.mean()\n",
        "\n",
        "plt.hist(spikes_data, bins = 50)\n",
        "plt.plot([data_mean, data_mean] , plt.gca().get_ylim(), color = 'lime', lw = 3, label = f'Mean = {np.round(data_mean[0], 2)}')\n",
        "plt.xlabel('Number of spikes per second', fontsize = 14)\n",
        "plt.ylabel('Number of occurances', fontsize = 14)\n",
        "plt.title('Neuron Activity', fontsize = 14)\n",
        "plt.legend(fontsize = 12)\n",
        "plt.xticks(fontsize = 12)\n",
        "plt.yticks(fontsize = 12)\n",
        "\n",
        "plt.savefig(\"spikes_hist.png\", bbox_inches='tight')\n",
        "files.download(\"spikes_hist.png\")"
      ],
      "metadata": {
        "id": "N9TSuvRncsCv"
      },
      "execution_count": null,
      "outputs": []
    },
    {
      "cell_type": "code",
      "source": [
        "#figure with the distribution\n",
        "plt.hist(spikes_data, bins=np.arange(13)-0.5, rwidth = 0.2, density = True, label = 'data')\n",
        "\n",
        "x = np.arange(0, 15, 1)\n",
        "p = stats.poisson.pmf(x, data_mean)\n",
        "plt.plot(x, p, 'lime', linewidth=3, label = 'Poisson Distribution Fit')\n",
        "title = \"Poisson ( lambda = %.2f )\" % (data_mean)\n",
        "plt.title(title)\n",
        "plt.xlabel('Number of spikes per second', fontsize = 14)\n",
        "plt.ylabel('Density', fontsize = 14)\n",
        "plt.legend(loc = 'upper right', fontsize = 12)\n",
        "plt.xticks(fontsize = 12)\n",
        "plt.yticks(fontsize = 12)\n",
        "\n",
        "plt.savefig(\"spikes_fitpois.png\", bbox_inches='tight')\n",
        "files.download(\"spikes_fitpois.png\")"
      ],
      "metadata": {
        "id": "XahyHbIDcskr"
      },
      "execution_count": null,
      "outputs": []
    },
    {
      "cell_type": "markdown",
      "source": [
        "#### Parametric Bootstrap"
      ],
      "metadata": {
        "id": "uGguIG8Nc2Xi"
      }
    },
    {
      "cell_type": "code",
      "source": [
        "# Logical Distribution\n",
        "\n",
        "num_boot = 2000 #number of bootstrap repititions\n",
        "boot_data = np.random.poisson(data_mean, size = (data_len, num_boot) ) #select the same sample size as the original from poisson distribution\n",
        "#distribution parameter (lambda) is computed from sample\n",
        "boot_mean = boot_data.mean(axis = 0) #mean of each sample\n",
        "\n",
        "#plot results\n",
        "plt.hist(boot_mean, label = 'bootstrap means')\n",
        "plt.plot([data_mean,data_mean], plt.gca().get_ylim(), color = 'lime', lw = 3, label = 'original data mean')\n",
        "plt.xlabel('Means of bootstrap samples', fontsize = 14)\n",
        "plt.ylabel('Count', fontsize = 14)\n",
        "plt.title('Parametric Bootstrap - Pois(3)', fontsize = 14)\n",
        "plt.legend(loc = 'upper left', fontsize = 12)\n",
        "plt.xticks(fontsize = 12)\n",
        "plt.yticks(fontsize = 12)\n",
        "plt.savefig(\"spikes_param_boot.png\", bbox_inches='tight')\n",
        "files.download(\"spikes_param_boot.png\")"
      ],
      "metadata": {
        "id": "C8P2WVczcyTD"
      },
      "execution_count": null,
      "outputs": []
    },
    {
      "cell_type": "code",
      "source": [
        "# Clearly incorrect distribution (uniform descrete)\n",
        "\n",
        "num_boot = 2000\n",
        "boot_data = np.random.randint(spikes_data.min(), spikes_data.max(), size = (data_len,num_boot) )\n",
        "boot_mean = boot_data.mean(axis = 0)\n",
        "\n",
        "plt.hist(boot_mean, label = 'bootstrap means')\n",
        "plt.plot([data_mean,data_mean], plt.gca().get_ylim(), color = 'lime', lw = 3, label = 'original data mean')\n",
        "plt.xlabel('Means of bootstrap samples', fontsize = 14)\n",
        "plt.ylabel('Count', fontsize = 14)\n",
        "plt.legend(loc = 'upper left', fontsize = 12)\n",
        "plt.xticks(fontsize = 12)\n",
        "plt.yticks(fontsize = 12)\n",
        "plt.title('parametric bootstrap - Uniform([0 13])', fontsize = 14)\n",
        "plt.legend(loc = 'upper left')\n",
        "\n",
        "plt.savefig(\"spikes_wrong_param_boot.png\", bbox_inches='tight')\n",
        "files.download(\"spikes_wrong_param_boot.png\")\n"
      ],
      "metadata": {
        "id": "VIuqz0HMc9s_"
      },
      "execution_count": null,
      "outputs": []
    },
    {
      "cell_type": "markdown",
      "source": [
        "#### Non Parametric Bootstrap"
      ],
      "metadata": {
        "id": "VHYmklCadKYc"
      }
    },
    {
      "cell_type": "code",
      "source": [
        "# non-parametric bootstrap\n",
        "num_boot = 2000\n",
        "boot_data = np.random.choice(spikes_data, size = (data_len,num_boot) , replace=True) # resample from data with repetitions\n",
        "boot_mean = boot_data.mean(axis = 0)\n",
        "\n",
        "plt.hist(boot_mean, label = 'bootstrap means')\n",
        "plt.plot([data_mean,data_mean], plt.gca().get_ylim(), color = 'lime', lw = 3, label = 'original data mean')\n",
        "plt.xlabel('Means of bootstrap samples', fontsize = 14)\n",
        "plt.ylabel('Count', fontsize = 14)\n",
        "plt.legend(loc = 'upper left', fontsize = 12)\n",
        "plt.title('Non-parametric bootstrap')\n",
        "plt.xticks(fontsize = 12)\n",
        "plt.yticks(fontsize = 12)\n",
        "\n",
        "plt.savefig(\"spikes_nonparam_boot.png\", bbox_inches='tight')\n",
        "files.download(\"spikes_nonparam_boot.png\")"
      ],
      "metadata": {
        "id": "yn4xws5BdM3t"
      },
      "execution_count": null,
      "outputs": []
    },
    {
      "cell_type": "markdown",
      "source": [
        "#### Bootstrap Confidence Intervals"
      ],
      "metadata": {
        "id": "xyx9HnCNdQwV"
      }
    },
    {
      "cell_type": "code",
      "source": [
        "# parametric bootstrap + CI\n",
        "num_boot = 2000 #number of bootstrap repititions\n",
        "boot_data = np.random.poisson(data_mean, size = (data_len, num_boot) ) #select the same sample size as the original from poisson distribution\n",
        "#distribution parameter (lambda) is computed from sample\n",
        "boot_mean = boot_data.mean(axis = 0) #mean of each sample\n",
        "\n",
        "conf = 0.92\n",
        "ci92 = np.percentile(boot_mean, [100*(1-conf)/2,100*(1-(1-conf)/2)]) #[4, 96]\n",
        "\n",
        "#plot results\n",
        "ax = plt.subplot(1,1,1)\n",
        "\n",
        "plt.hist(boot_mean, label = 'Bootstrap Means')\n",
        "ys = plt.gca().get_ylim()\n",
        "\n",
        "plt.plot([data_mean,data_mean], ys, color = 'lime', lw = 3, label = 'Original Data Mean')\n",
        "plt.plot([ci92,ci92], ys ,color = 'red', lw = 3, label = f'92% CI = ({round(ci92[0], 2)}, {round(ci92[1], 2)})')\n",
        "\n",
        "plt.xlabel('Means of Bootstrap Samples', fontsize = 14)\n",
        "plt.ylabel('Count', fontsize = 14)\n",
        "plt.title('Parametric Bootstrap - Poisson(3)', fontsize = 14)\n",
        "handles, labels = ax.get_legend_handles_labels()\n",
        "handles.pop(2) , labels.pop(2)\n",
        "\n",
        "plt.legend(handles, labels, loc = 'upper left', fontsize = 12)\n",
        "plt.xticks(fontsize = 12)\n",
        "plt.yticks(fontsize = 12)\n",
        "plt.savefig(\"spikes_param_boot_CI.png\", bbox_inches='tight')\n",
        "files.download(\"spikes_param_boot_CI.png\")"
      ],
      "metadata": {
        "id": "mKOHaIQLdTUn"
      },
      "execution_count": null,
      "outputs": []
    },
    {
      "cell_type": "code",
      "source": [
        "# wrong distribution (uniform descrete) + CI\n",
        "\n",
        "num_boot = 2000\n",
        "boot_data = np.random.randint(spikes_data.min(), spikes_data.max(), size = (data_len,num_boot) )\n",
        "boot_mean = boot_data.mean(axis = 0)\n",
        "\n",
        "ci92 = np.percentile(boot_mean, [100*(1-conf)/2,100*(1-(1-conf)/2)]) #[4, 96]\n",
        "\n",
        "ax = plt.subplot(1,1,1)\n",
        "\n",
        "plt.hist(boot_mean, label = 'Bootstrap Means')\n",
        "ys = plt.gca().get_ylim()\n",
        "\n",
        "plt.plot([data_mean,data_mean], ys, color = 'lime', lw = 3, label = 'Original Data Mean')\n",
        "plt.plot([ci92,ci92], ys ,color = 'red', lw = 3, label = f'92% CI = ({round(ci92[0], 2)}, {round(ci92[1], 2)})')\n",
        "\n",
        "plt.xlabel('Means of Bootstrap Samples', fontsize = 14)\n",
        "plt.ylabel('Count', fontsize = 14)\n",
        "handles, labels = ax.get_legend_handles_labels()\n",
        "handles.pop(2) , labels.pop(2)\n",
        "\n",
        "plt.legend(handles, labels, loc = 'upper left', fontsize = 12)\n",
        "\n",
        "plt.xticks(fontsize = 12)\n",
        "plt.yticks(fontsize = 12)\n",
        "plt.title('Parametric Bootstrap - Uniform([0 13])', fontsize = 14)\n",
        "\n",
        "plt.savefig(\"spikes_wrong_param_boot_CI.png\", bbox_inches='tight')\n",
        "files.download(\"spikes_wrong_param_boot_CI.png\")"
      ],
      "metadata": {
        "id": "VqteClrPdWom"
      },
      "execution_count": null,
      "outputs": []
    },
    {
      "cell_type": "markdown",
      "source": [
        "### Comprehension Example"
      ],
      "metadata": {
        "id": "QzejwEQedZKL"
      }
    },
    {
      "cell_type": "code",
      "source": [
        "#Creating data and computing effect size\n",
        "comprehension = [[5,6,8,12,11,9,7,6,8,7,8,12,5,6,7,8,11,7,7,5,3,4,10,6,6,5,7,6,5,6],\n",
        "                 [6,7,9,13,12,10,11,8,10,9,8,13,6,14,6,11,12,10,9,4,5,12,11,2,7,8,7,6,6,7]]\n",
        "\n",
        "group1 = np.array(comprehension[0])\n",
        "group2 = np.array(comprehension[1])\n",
        "\n",
        "sample1_mean = group1.mean()\n",
        "sample2_mean = group2.mean()\n",
        "sample1_var = group1.var(ddof=1) #unbiased estimator\n",
        "sample2_var = group2.var(ddof=1)\n",
        "\n",
        "sd_comb = np.sqrt(((group1.shape[0]-1)*sample1_var + (group2.shape[0]-1)*sample2_var)/(group1.shape[0] + group2.shape[0] - 2))\n",
        "effect_size = (sample2_mean-sample1_mean)/sd_comb\n",
        "print(effect_size)"
      ],
      "metadata": {
        "id": "9Pmut2yXda07"
      },
      "execution_count": null,
      "outputs": []
    },
    {
      "cell_type": "markdown",
      "source": [
        "#### Unpaired Bootstrap"
      ],
      "metadata": {
        "id": "YKlbkUO1diJT"
      }
    },
    {
      "cell_type": "code",
      "source": [
        "# bootstrap unpaired (unmatched pairs)\n",
        "\n",
        "mean_group1 = group1.mean()\n",
        "mean_group2 = group2.mean()\n",
        "mean_diff = mean_group2-mean_group1\n",
        "\n",
        "plt.scatter(np.ones(len(group1),),group1)\n",
        "plt.scatter(np.full((len(group2),),2),group2)\n",
        "plt.xlim((0,3))\n",
        "plt.ylabel('Score', fontsize = 14)\n",
        "plt.xticks([1,2], ['Age 3' , 'Age 5'])\n",
        "plt.xticks(fontsize = 12)\n",
        "plt.yticks(fontsize = 12)\n",
        "\n",
        "plt.savefig(\"two_groups_unmatched.png\", bbox_inches='tight')\n",
        "files.download(\"two_groups_unmatched.png\")\n",
        "\n",
        "num_boot = 2000\n",
        "\n",
        "boot_group1 = np.random.choice(group1,size = (len(group1),num_boot)) #resample 3 year olds\n",
        "boot_group2 = np.random.choice(group2,size = (len(group1),num_boot)) #resample 5 year olds\n",
        "\n",
        "boot_mean1 = boot_group1.mean(axis = 0) #compute means\n",
        "boot_mean2 = boot_group2.mean(axis = 0)\n",
        "\n",
        "plt.hist(boot_mean1, alpha = 0.6, label = 'bootsrap samples of 3 year old means')\n",
        "plt.hist(boot_mean2, alpha = 0.6, label = 'bootsrap samples of 5 year old means')\n",
        "plt.xlabel('Score', fontsize = 14)\n",
        "plt.ylabel('Count', fontsize = 14)\n",
        "\n",
        "\n",
        "plt.legend(loc = 'upper left', fontsize = 12)\n",
        "plt.xticks(fontsize = 12)\n",
        "plt.yticks(fontsize = 12)\n",
        "\n",
        "plt.savefig(\"hist_boot.png\", bbox_inches='tight')\n",
        "files.download(\"hist_boot.png\")\n",
        "\n",
        "plt.savefig(\"bootdists.png\", bbox_inches='tight')\n",
        "files.download(\"bootdists.png\")\n",
        "\n",
        "plt.figure()\n",
        "boot_diff_means = boot_mean2-boot_mean1 #compute difference between means\n",
        "\n",
        "plt.hist(boot_diff_means, label = 'Difference of boot means')\n",
        "plt.plot([mean_diff, mean_diff], plt.gca().get_ylim(), color = 'lime', lw = 3,\n",
        "         label = 'Original data difference of means')\n",
        "plt.xlabel('Differences of Means', fontsize = 14)\n",
        "plt.ylabel('Count', fontsize = 14)\n",
        "plt.legend(loc = 'upper left')\n",
        "plt.xticks(fontsize = 12)\n",
        "plt.yticks(fontsize = 12)\n",
        "\n",
        "plt.savefig(\"boot_unmatched.png\", bbox_inches='tight')\n",
        "files.download(\"boot_unmatched.png\")"
      ],
      "metadata": {
        "id": "QJ0u3doidgKR"
      },
      "execution_count": null,
      "outputs": []
    },
    {
      "cell_type": "markdown",
      "source": [
        "#### Paired Bootstrap"
      ],
      "metadata": {
        "id": "HnQnpntUdqxs"
      }
    },
    {
      "cell_type": "code",
      "source": [
        "# bootstrap paired (matched pairs)\n",
        "fig = plt.figure()\n",
        "plt.scatter(np.arange(1,len(group1)+1,1),group1, label = 'Age 3')\n",
        "plt.scatter(np.arange(1,len(group2)+1,1),group2, label = 'Age 5')\n",
        "plt.xlabel('Child', fontsize = 14)\n",
        "plt.ylabel('Score', fontsize = 14)\n",
        "plt.legend(fontsize = 12)\n",
        "plt.xticks(np.arange(1, len(group1)+1), fontsize = 12)\n",
        "plt.yticks(fontsize = 12)\n",
        "fig.set_size_inches(10, 8)\n",
        "\n",
        "plt.savefig(\"two_groups_matched.png\", bbox_inches='tight')\n",
        "files.download(\"two_groups_matched.png\")\n",
        "\n",
        "data_diff = group2-group1 #compute difference between each child at ages 3 and 5\n",
        "\n",
        "boot_diff = np.random.choice(data_diff, size = (len(group1),num_boot)) #resample the differences\n",
        "\n",
        "boot_mean_diff = boot_diff.mean(axis = 0) #then compute mean of differences\n",
        "\n",
        "plt.hist(boot_mean_diff,  label = 'Means of boot differences')\n",
        "plt.plot([mean_diff, mean_diff], plt.gca().get_ylim(), color = 'lime', lw = 3, label = 'Original data mean of difference')\n",
        "plt.xlabel('Means of differences', fontsize = 14)\n",
        "plt.legend(loc = 'upper left', fontsize = 12)\n",
        "plt.ylabel('Count', fontsize = 14)\n",
        "plt.legend(loc = 'upper left', fontsize = 12)\n",
        "plt.xticks(fontsize = 12)\n",
        "plt.yticks(fontsize = 12)\n",
        "\n",
        "plt.savefig(\"boot_matched.png\", bbox_inches='tight')\n",
        "files.download(\"boot_matched.png\")"
      ],
      "metadata": {
        "id": "_i75sbI7dsLi"
      },
      "execution_count": null,
      "outputs": []
    },
    {
      "cell_type": "markdown",
      "source": [
        "#### With Confidence Intervals"
      ],
      "metadata": {
        "id": "ba6drtxZdyWG"
      }
    },
    {
      "cell_type": "code",
      "source": [
        "# bootstrap unpaired + CI\n",
        "\n",
        "num_boot = 2000\n",
        "\n",
        "boot_group1 = np.random.choice(group1,size = (len(group1),num_boot)) #resample 3 year olds\n",
        "boot_group2 = np.random.choice(group2,size = (len(group1),num_boot)) #resample 5 year olds\n",
        "\n",
        "boot_mean1 = boot_group1.mean(axis = 0) #compute means\n",
        "boot_mean2 = boot_group2.mean(axis = 0)\n",
        "\n",
        "boot_diff_means = boot_mean2-boot_mean1 #compute difference between means\n",
        "conf = 0.92\n",
        "\n",
        "ci92 = np.percentile(boot_diff_means, [100*(1-conf)/2,100*(1-(1-conf)/2)]) #[4, 96]\n",
        "\n",
        "ax = plt.subplot(1,1,1)\n",
        "\n",
        "plt.hist(boot_diff_means, label = 'Bootstrap Samples')\n",
        "ys = plt.gca().get_ylim()\n",
        "\n",
        "plt.plot([mean_diff, mean_diff], ys, color = 'lime', lw = 3,\n",
        "         label = 'Original data difference of means')\n",
        "plt.plot([ci92,ci92], ys ,color = 'red', lw = 3, label = f'92% CI = ({round(ci92[0], 2)}, {round(ci92[1], 2)})')\n",
        "\n",
        "plt.xlabel('Bootstrapped Differences of Means', fontsize = 14)\n",
        "plt.ylabel('Count', fontsize = 14)\n",
        "handles, labels = ax.get_legend_handles_labels()\n",
        "handles.pop(2) , labels.pop(2)\n",
        "\n",
        "plt.legend(handles, labels, loc = 'upper left', fontsize = 12)\n",
        "plt.xticks(fontsize = 12)\n",
        "plt.yticks(fontsize = 12)\n",
        "\n",
        "\n",
        "plt.savefig(\"boot_unmatched_CI.png\", bbox_inches='tight')\n",
        "files.download(\"boot_unmatched_CI.png\")"
      ],
      "metadata": {
        "id": "WvKDFF2_d1Bz"
      },
      "execution_count": null,
      "outputs": []
    },
    {
      "cell_type": "code",
      "source": [
        "# bootstrap paired + CI\n",
        "\n",
        "data_diff = group2-group1 #compute difference between each child at ages 3 and 5\n",
        "\n",
        "boot_diff = np.random.choice(data_diff, size = (len(group1),num_boot)) #resample the differences\n",
        "\n",
        "boot_mean_diff = boot_diff.mean(axis = 0) #then compute mean of differences\n",
        "\n",
        "ci92 = np.percentile(boot_mean_diff, [100*(1-conf)/2,100*(1-(1-conf)/2)]) #[4, 96]\n",
        "\n",
        "\n",
        "ax = plt.subplot(1,1,1)\n",
        "\n",
        "plt.hist(boot_mean_diff,  label = 'Bootstrap Samples')\n",
        "ys = plt.gca().get_ylim()\n",
        "plt.plot([mean_diff, mean_diff], ys, color = 'lime', lw = 3, label = 'Original data mean of difference')\n",
        "plt.plot([ci92,ci92], ys ,color = 'red', lw = 3, label = f'92% CI = ({round(ci92[0], 2)}, {round(ci92[1], 2)})')\n",
        "\n",
        "plt.xlabel('Bootstrapped Means of differences', fontsize = 14)\n",
        "plt.legend(loc = 'upper left', fontsize = 12)\n",
        "plt.ylabel('Count', fontsize = 14)\n",
        "plt.legend(loc = 'upper left', fontsize = 12)\n",
        "plt.xticks(fontsize = 12)\n",
        "plt.yticks(fontsize = 12)\n",
        "plt.xlim([-1, 4])\n",
        "handles, labels = ax.get_legend_handles_labels()\n",
        "handles.pop(2) , labels.pop(2)\n",
        "\n",
        "plt.legend(handles, labels, loc = 'upper left', fontsize = 12)\n",
        "\n",
        "plt.savefig(\"boot_matched_CI.png\", bbox_inches='tight')\n",
        "files.download(\"boot_matched_CI.png\")"
      ],
      "metadata": {
        "id": "eKLzMUFcd1or"
      },
      "execution_count": null,
      "outputs": []
    },
    {
      "cell_type": "markdown",
      "source": [
        "### Bootstrap Group Comparison"
      ],
      "metadata": {
        "id": "cnfEgnL7d9UJ"
      }
    },
    {
      "cell_type": "markdown",
      "source": [
        "Upload data (file in tutorial folder)"
      ],
      "metadata": {
        "id": "AGMQ_uOKeBMV"
      }
    },
    {
      "cell_type": "code",
      "source": [
        "# Upload file for comaprision between two groups\n",
        "uploaded = files.upload()\n",
        "\n",
        "data = pd.read_csv(io.BytesIO(uploaded['kid_calories.csv']))\n",
        "\n",
        "for col in data.columns: # see names of the columns in a loop\n",
        "    print(col)\n",
        "\n",
        "print(data)"
      ],
      "metadata": {
        "id": "ygDbvX1Ld_lv"
      },
      "execution_count": null,
      "outputs": []
    },
    {
      "cell_type": "markdown",
      "source": [
        "Look at data"
      ],
      "metadata": {
        "id": "q8-i-kUeeGyk"
      }
    },
    {
      "cell_type": "code",
      "source": [
        "# Examine data\n",
        "#histogram\n",
        "\n",
        "group_names = np.unique(data.group)\n",
        "print(group_names)\n",
        "group1 = data.calories[data.group == group_names[0]]\n",
        "group2 = data.calories[data.group == group_names[1]]\n",
        "\n",
        "group1_mean = group1.mean()\n",
        "group2_mean = group2.mean()\n",
        "\n",
        "bin_edges = np.arange(100,700,50)\n",
        "\n",
        "plt.hist(group1,bins = bin_edges, alpha = 0.6, label = 'Kid cooks')\n",
        "plt.hist(group2, bins = bin_edges, alpha = 0.6, label = 'Parent cooks')\n",
        "ys = plt.gca().get_ylim()\n",
        "\n",
        "plt.plot([group1_mean,group1_mean], ys, color = 'dodgerblue',\n",
        "         lw = 3, label = 'Kid cooks mean')\n",
        "plt.plot([group2_mean,group2_mean],ys,color = 'darkorange',\n",
        "         lw=3,  label = 'Parent cooks mean')\n",
        "plt.xlabel('Calories [kcal]', fontsize = 14)\n",
        "plt.ylabel('Number of Kids', fontsize = 14)\n",
        "plt.legend(loc = 'upper left', fontsize = 12)\n",
        "plt.xticks(fontsize = 12)\n",
        "plt.yticks(fontsize = 12)\n",
        "\n",
        "plt.savefig(\"hist_cook.png\", bbox_inches='tight')\n",
        "files.download(\"hist_cook.png\")"
      ],
      "metadata": {
        "id": "lAvPnzwveH1z"
      },
      "execution_count": null,
      "outputs": []
    },
    {
      "cell_type": "code",
      "source": [
        "# boxplot\n",
        "\n",
        "plt.boxplot([group1, group2] , positions = np.array((1,2)) )\n",
        "\n",
        "plt.xticks((1,2) , ('kid Cooks' , 'Parent Cooks'), fontsize = 12)\n",
        "plt.yticks(fontsize = 12)\n",
        "plt.ylabel('Calories [kcal]', fontsize = 14)\n",
        "plt.xlabel('Group', fontsize = 14)\n",
        "\n",
        "plt.savefig(\"box_cook.png\", bbox_inches='tight')\n",
        "files.download(\"box_cook.png\")"
      ],
      "metadata": {
        "id": "4Zsr8xwDeJvB"
      },
      "execution_count": null,
      "outputs": []
    },
    {
      "cell_type": "markdown",
      "source": [
        "#### Bootstrap"
      ],
      "metadata": {
        "id": "Z4MAMRhVeNMI"
      }
    },
    {
      "cell_type": "code",
      "source": [
        "#non-parametric non-paired bootstrap\n",
        "\n",
        "num_boots = 2000\n",
        "boot_samples1 = np.random.choice(group1, size = (len(group1),num_boots))\n",
        "boot_samples2 = np.random.choice(group2, size = (len(group2),num_boots))\n",
        "\n",
        "boot_samples1_means = boot_samples1.mean(axis = 0)\n",
        "boot_samples2_means = boot_samples2.mean(axis = 0)\n",
        "\n",
        "plt.hist(boot_samples1_means, alpha = 0.6, label = 'boot samples means of kids cook')\n",
        "plt.hist(boot_samples2_means, alpha = 0.6, label = 'boot samples means of parents cook')\n",
        "plt.xlabel('Mean of Calories [kcal]', fontsize = 14)\n",
        "plt.ylabel('Count', fontsize = 14)\n",
        "\n",
        "\n",
        "plt.legend(loc = 'upper left', fontsize = 12)\n",
        "plt.xticks(fontsize = 12)\n",
        "plt.yticks(fontsize = 12)\n",
        "\n",
        "plt.savefig(\"hist_boot.png\", bbox_inches='tight')\n",
        "files.download(\"hist_boot.png\")"
      ],
      "metadata": {
        "id": "1UtEArtkeO3R"
      },
      "execution_count": null,
      "outputs": []
    },
    {
      "cell_type": "code",
      "source": [
        "# boostrap difference of means\n",
        "\n",
        "boot_samples_diff_means = boot_samples1_means-boot_samples2_means\n",
        "\n",
        "orig_diff_mean = group1_mean-group2_mean\n",
        "\n",
        "# confidence interval (CI) 92%\n",
        "conf = 0.92\n",
        "ci92 = np.percentile(boot_samples_diff_means, [100*(1-conf)/2,100*(1-(1-conf)/2)]) #[2.5, 97.5]\n",
        "\n",
        "print('92% Confidence Interval = (' + str(ci92[0]) + ' , ' + str(ci92[1]) + ')')\n",
        "\n",
        "ax = plt.subplot(1,1,1)\n",
        "plt.hist(boot_samples_diff_means, label = 'Bootstrap difference of means')\n",
        "ys = plt.gca().get_ylim()\n",
        "plt.plot([orig_diff_mean,orig_diff_mean],ys,\n",
        "         color = 'lime', lw = 3, label = 'Original samples difference of means')\n",
        "plt.plot([ci92,ci92], ys ,color = 'red', lw = 3, label = f'92% CI = ({round(ci92[0], 2)}, {round(ci92[1], 2)})')\n",
        "#plt.plot([0,0],ys,color = 'black', lw = 2, linestyle = '--', label = 'zero')\n",
        "handles, labels = ax.get_legend_handles_labels()\n",
        "handles.pop(3) , labels.pop(3)\n",
        "plt.legend(handles, labels, loc = 'upper left', fontsize = 12)\n",
        "plt.xticks(fontsize = 12)\n",
        "plt.yticks(fontsize = 12)\n",
        "plt.xlabel('Mean of Calories [kcal]', fontsize = 14)\n",
        "plt.ylabel('Count', fontsize = 14)\n",
        "\n",
        "plt.savefig(\"ci.png\", bbox_inches='tight')\n",
        "files.download(\"ci.png\")\n"
      ],
      "metadata": {
        "id": "3pAL6zkOeQhw"
      },
      "execution_count": null,
      "outputs": []
    },
    {
      "cell_type": "code",
      "source": [
        "#compare paremetric and bootstrapped distributions\n",
        "plt.figure()\n",
        "plt.hist(boot_samples1_means, label = 'Bootstrap Means of Kid Group')\n",
        "plt.plot([group1_mean,group1_mean], plt.gca().get_ylim(),\n",
        "         color = 'lime', lw = 3, label = 'Original Sample Mean')\n",
        "plt.title('Bootstrap Distribution', fontsize = 14)\n",
        "plt.xlabel('Mean of Calories [kcal]', fontsize = 12)\n",
        "plt.ylabel('Count', fontsize = 12)\n",
        "plt.xticks(fontsize = 12)\n",
        "plt.yticks(fontsize = 12)\n",
        "\n",
        "plt.xlim([350, 500])\n",
        "plt.savefig(\"bootstrap.png\", bbox_inches='tight')\n",
        "files.download(\"bootstrap.png\")\n",
        "\n",
        "ParametricSample = np.random.normal(group1_mean, group1.std(ddof = 1)/(group1.shape[0]**0.5), (boot_samples1_means.shape[0], 1))\n",
        "plt.figure()\n",
        "plt.hist(ParametricSample, label = 'Sampled Means from Normal Distribution')\n",
        "plt.plot([group1_mean,group1_mean],plt.gca().get_ylim(),\n",
        "         color = 'lime', lw = 3, label = 'Original Sample Mean')\n",
        "plt.title('Sample from Normal Distribution N(mean(sample), std(sample)/sqrt(N))', fontsize = 14)\n",
        "plt.xlabel('Mean of Calories [kcal]', fontsize = 12)\n",
        "plt.ylabel('Count', fontsize = 12)\n",
        "plt.xticks(fontsize = 12)\n",
        "plt.yticks(fontsize = 12)\n",
        "plt.xlim([350, 500])\n",
        "plt.savefig(\"distribution.png\", bbox_inches='tight')\n",
        "files.download(\"distribution.png\")"
      ],
      "metadata": {
        "id": "drOyRudIeTaT"
      },
      "execution_count": null,
      "outputs": []
    },
    {
      "cell_type": "code",
      "source": [
        "# add non parametric and parametric confidence intervals\n",
        "conf = 0.92\n",
        "ci92 = np.percentile(boot_samples1_means, [100*(1-conf)/2,100*(1-(1-conf)/2)]) #[4, 96]\n",
        "ax = plt.subplot(1,1,1)\n",
        "plt.hist(boot_samples1_means, label = 'Bootstrap Means')\n",
        "ys = plt.gca().get_ylim()\n",
        "plt.plot([group1_mean,group1_mean],ys,\n",
        "         color = 'lime', lw = 3, label = 'Original Samples Mean')\n",
        "plt.plot([ci92,ci92], ys ,color = 'red', lw = 3, label = f'92% CI = ({round(ci92[0], 2)}, {round(ci92[1], 2)})')\n",
        "handles, labels = ax.get_legend_handles_labels()\n",
        "handles.pop(3) , labels.pop(3)\n",
        "plt.legend(handles, labels, loc = 'upper left', fontsize = 12)\n",
        "plt.xticks(fontsize = 12)\n",
        "plt.yticks(fontsize = 12)\n",
        "plt.xlabel('Mean of Calories [kcal]', fontsize = 14)\n",
        "plt.ylabel('Count', fontsize = 14)\n",
        "plt.xlim([350, 500])\n",
        "plt.savefig(\"cin.png\", bbox_inches='tight')\n",
        "files.download(\"cin.png\")\n",
        "\n",
        "N = group1.shape[0]\n",
        "group1_se = group1.std(ddof = 1)/(N**0.5)\n",
        "t_ci92 = stats.t.ppf([0.04,0.96], N - 1)\n",
        "CI92 = group1_mean + group1_se*t_ci92\n",
        "\n",
        "plt.figure()\n",
        "ax = plt.subplot(1,1,1)\n",
        "plt.hist(ParametricSample, label = 'Sampled Means from Normal Distribution')\n",
        "plt.plot([group1_mean,group1_mean],plt.gca().get_ylim(),\n",
        "         color = 'lime', lw = 3, label = 'Original Sample Mean')\n",
        "plt.plot([CI92,CI92], ys ,color = 'red', lw = 3, label = f'92% CI = ({round(CI92[0], 2)}, {round(CI92[1], 2)})')\n",
        "handles, labels = ax.get_legend_handles_labels()\n",
        "handles.pop(3) , labels.pop(3)\n",
        "plt.legend(handles, labels, loc = 'upper left', fontsize = 12)\n",
        "\n",
        "plt.title('Sample from Normal Distribution N(mean(sample), std(sample)/sqrt(N))', fontsize = 14)\n",
        "plt.xlabel('Mean of Calories [kcal]', fontsize = 12)\n",
        "plt.ylabel('Count', fontsize = 12)\n",
        "plt.xticks(fontsize = 12)\n",
        "plt.yticks(fontsize = 12)\n",
        "plt.xlim([350, 500])\n",
        "\n",
        "plt.savefig(\"cit.png\", bbox_inches='tight')\n",
        "files.download(\"cit.png\")"
      ],
      "metadata": {
        "id": "4WYIeAfpeWrN"
      },
      "execution_count": null,
      "outputs": []
    },
    {
      "cell_type": "markdown",
      "source": [
        "### Auditory - Visual Example"
      ],
      "metadata": {
        "id": "yEUKAj4jfE_U"
      }
    },
    {
      "cell_type": "markdown",
      "source": [
        "Load data (file in the tutorial folder)"
      ],
      "metadata": {
        "id": "rLPp_mhufG8H"
      }
    },
    {
      "cell_type": "code",
      "source": [
        "uploaded = files.upload()\n",
        "\n",
        "data = pd.read_csv(io.BytesIO(uploaded['AudioVisual.csv']))\n",
        "\n",
        "for col in data.columns: # see names of the columns in a loop\n",
        "    print(col)\n",
        "\n",
        "print(data)"
      ],
      "metadata": {
        "id": "c7uw66_TfJ_c"
      },
      "execution_count": null,
      "outputs": []
    },
    {
      "cell_type": "markdown",
      "source": [
        "Visualizations"
      ],
      "metadata": {
        "id": "LoGYDpAzfR4f"
      }
    },
    {
      "cell_type": "code",
      "source": [
        "# histogram by stimulus or group\n",
        "fig = plt.figure()\n",
        "\n",
        "plt.subplot(1, 2, 1)\n",
        "sns.histplot(data=data, x = 'ResponseTime', hue = 'Stimulus')\n",
        "plt.xlabel('Response Time [msec]', fontsize = 14)\n",
        "plt.ylabel('Count', fontsize = 14)\n",
        "plt.xticks(fontsize = 12)\n",
        "plt.yticks(fontsize = 12)\n",
        "\n",
        "plt.subplot(1, 2, 2)\n",
        "sns.histplot(data=data, x = 'ResponseTime', hue = 'Group', palette = ['C2', 'C3'])\n",
        "fig.subplots_adjust(bottom=0.1, right=1.5, top=0.9)\n",
        "plt.xlabel('Response Time [msec]', fontsize = 14)\n",
        "plt.ylabel('Count', fontsize = 14)\n",
        "plt.xticks(fontsize = 12)\n",
        "plt.yticks(fontsize = 12)\n",
        "\n",
        "fig.set_size_inches((7, 5))\n",
        "\n",
        "plt.savefig(\"sephist.png\", bbox_inches='tight')\n",
        "files.download(\"sephist.png\")"
      ],
      "metadata": {
        "id": "2tBc-vdVfRQ0"
      },
      "execution_count": null,
      "outputs": []
    },
    {
      "cell_type": "code",
      "source": [
        "# boxplot\n",
        "\n",
        "fig, ax = plt.subplots(1,3)\n",
        "sns.boxplot(ax=ax[0], data=data, x = 'Stimulus', y = 'ResponseTime', hue = 'Stimulus', palette = {'auditory':'blue', 'visual':'orange'})\n",
        "\n",
        "sns.boxplot(ax=ax[1], data=data, x = 'Group', y = 'ResponseTime', hue = 'Group', palette = {'NonMusician':'g', 'Musician':'r'})\n",
        "\n",
        "stim_group = ['auditory musician']*len(data.ResponseTime)\n",
        "data['stim_group'] = stim_group\n",
        "data.loc[(data.Stimulus==np.unique(data.Stimulus)[0]) & (data.Group==np.unique(data.Group)[1]), 'stim_group'] = 'auditory nonmusician'\n",
        "data.loc[(data.Stimulus==np.unique(data.Stimulus)[1]) & (data.Group==np.unique(data.Group)[0]), 'stim_group'] = 'visual musician'\n",
        "data.loc[(data.Stimulus==np.unique(data.Stimulus)[1]) & (data.Group==np.unique(data.Group)[1]), 'stim_group'] = 'visual nonmusician'\n",
        "\n",
        "\n",
        "sns.boxplot(ax=ax[2], data=data, x = 'stim_group', y = 'ResponseTime', hue = 'stim_group',\n",
        "            palette = {'auditory musician':'cyan', 'auditory nonmusician':'brown', 'visual musician': 'orchid', 'visual nonmusician': 'teal'})\n",
        "ax[2].set_xticklabels(['Auditory \\n Not Musician' , 'Auditory \\n Musician' , 'Visual \\n Not Musician' , 'Visual \\n Musician'])\n",
        "ax[2].set_xlabel('Stimulus&Group')\n",
        "\n",
        "ax[0].set_ylabel('Response Time [msec]')\n",
        "ax[1].set_ylabel('Response Time [msec]')\n",
        "ax[2].set_ylabel('Response Time [msec]')\n",
        "\n",
        "fig.subplots_adjust(bottom=0.1, right=2.2, top=0.9)\n",
        "\n",
        "\n",
        "plt.savefig(\"box.png\", bbox_inches='tight')\n",
        "files.download(\"box.png\")"
      ],
      "metadata": {
        "id": "DoL33ob5fVG-"
      },
      "execution_count": null,
      "outputs": []
    },
    {
      "cell_type": "code",
      "source": [
        "# violinplot\n",
        "\n",
        "fig, ax = plt.subplots(1,3)\n",
        "sns.violinplot(ax=ax[0], data=data, x = 'Stimulus', y = 'ResponseTime', hue = 'Stimulus', palette = {'auditory':'blue', 'visual':'orange'})\n",
        "\n",
        "sns.violinplot(ax=ax[1], data=data, x = 'Group', y = 'ResponseTime', inner = 'stick', hue ='Group',\n",
        "               palette = {'NonMusician':'g', 'Musician':'r'})\n",
        "\n",
        "sns.violinplot(ax=ax[2], data=data, x = 'stim_group', y = 'ResponseTime', inner = 'stick', hue = 'stim_group',\n",
        "            palette = {'auditory musician':'cyan', 'auditory nonmusician':'brown', 'visual musician': 'orchid', 'visual nonmusician': 'teal'})\n",
        "\n",
        "ax[2].set_xticklabels(['Auditory \\n Not Musician' , 'Auditory \\n Musician' , 'Visual \\n Not Musician' , 'Visual \\n Musician'])\n",
        "ax[2].set_xlabel('Stimulus & Group')\n",
        "\n",
        "\n",
        "ax[0].set_ylabel('Response Time [msec]')\n",
        "ax[1].set_ylabel('Response Time [msec]')\n",
        "ax[2].set_ylabel('Response Time [msec]')\n",
        "\n",
        "fig.subplots_adjust(bottom=0.1, right=1.8, top=0.9)\n",
        "\n",
        "plt.savefig(\"violin.png\", bbox_inches='tight')\n",
        "files.download(\"violin.png\")"
      ],
      "metadata": {
        "id": "jOr5Fe1UfW--"
      },
      "execution_count": null,
      "outputs": []
    },
    {
      "cell_type": "markdown",
      "source": [
        "#### Confidence Intervals"
      ],
      "metadata": {
        "id": "vtAQu6emfcHC"
      }
    },
    {
      "cell_type": "code",
      "source": [
        "aud = np.array(data.ResponseTime[data.Stimulus=='auditory'])\n",
        "vis = np.array(data.ResponseTime[data.Stimulus=='visual'])\n",
        "\n",
        "m1 = np.mean(aud)\n",
        "m2 = np.mean(vis)\n",
        "\n",
        "s1 = np.std(aud, ddof = 1)\n",
        "s2 = np.std(vis, ddof = 1)\n",
        "\n",
        "N1 = len(aud)\n",
        "N2 = len(vis)\n",
        "\n",
        "#auditory\n",
        "t_ci92 = stats.t.ppf([0.04,0.96], N1 - 1)\n",
        "CI92 = m1 + (s1/N1**0.5)*t_ci92\n",
        "ParametricSample = np.random.normal(m1, s1/(N1**0.5), (100000, 1))\n",
        "plt.figure()\n",
        "ax = plt.subplot(1,1,1)\n",
        "plt.hist(ParametricSample, bins = 1000, label = 'Sampled Means from Normal Distribution')\n",
        "ys = plt.gca().get_ylim()\n",
        "plt.plot([m1, m1], ys, color = 'lime', lw = 3, label = 'Original Sample Mean')\n",
        "plt.plot([CI92,CI92], ys ,color = 'red', lw = 3, label = f'92% CI = ({round(CI92[0], 2)}, {round(CI92[1], 2)})')\n",
        "handles, labels = ax.get_legend_handles_labels()\n",
        "handles.pop(3) , labels.pop(3)\n",
        "plt.legend(handles, labels, loc = 'upper left', fontsize = 12)\n",
        "plt.title('Sample from Normal Distribution for Auditory', fontsize = 14)\n",
        "plt.xlabel('Auditory Mean Response Time [msec]', fontsize = 12)\n",
        "plt.ylabel('Count', fontsize = 12)\n",
        "plt.xticks(fontsize = 12)\n",
        "plt.yticks(fontsize = 12)\n",
        "plt.savefig(\"aud.png\", bbox_inches='tight')\n",
        "files.download(\"aud.png\")\n",
        "\n",
        "#auditory\n",
        "CI92 = m2 + (s2/N2**0.5)*t_ci92\n",
        "ParametricSample = np.random.normal(m2, s2/(N2**0.5), (100000, 1))\n",
        "plt.figure()\n",
        "ax = plt.subplot(1,1,1)\n",
        "plt.hist(ParametricSample, bins = 1000, label = 'Sampled Means from Normal Distribution')\n",
        "ys = plt.gca().get_ylim()\n",
        "plt.plot([m2, m2], ys, color = 'lime', lw = 3, label = 'Original Sample Mean')\n",
        "plt.plot([CI92,CI92], ys ,color = 'red', lw = 3, label = f'92% CI = ({round(CI92[0], 2)}, {round(CI92[1], 2)})')\n",
        "handles, labels = ax.get_legend_handles_labels()\n",
        "handles.pop(3) , labels.pop(3)\n",
        "plt.legend(handles, labels, loc = 'upper left', fontsize = 12)\n",
        "plt.title('Sample from Normal Distribution for Visual', fontsize = 14)\n",
        "plt.xlabel('Visual Mean Response Time [msec]', fontsize = 12)\n",
        "plt.ylabel('Count', fontsize = 12)\n",
        "plt.xticks(fontsize = 12)\n",
        "plt.yticks(fontsize = 12)\n",
        "plt.savefig(\"vis.png\", bbox_inches='tight')\n",
        "files.download(\"vis.png\")"
      ],
      "metadata": {
        "id": "B_zhEBRRfefE"
      },
      "execution_count": null,
      "outputs": []
    },
    {
      "cell_type": "markdown",
      "source": [
        "### Confidence Intervals of Regression Coefficients"
      ],
      "metadata": {
        "id": "EZJjfMOEhdw4"
      }
    },
    {
      "cell_type": "markdown",
      "source": [
        "Loading data for this example (in folder)"
      ],
      "metadata": {
        "id": "1ClpbuGoh0eU"
      }
    },
    {
      "cell_type": "code",
      "source": [
        "#blood pressure\n",
        "#upload and read from PC/Drive\n",
        "# after running press 'Choose File'\n",
        "\n",
        "uploaded = files.upload()\n",
        "\n",
        "data = pd.read_csv(io.BytesIO(uploaded['bp.csv']))\n",
        "\n",
        "for col in data.columns: # see names of the columns in a loop\n",
        "    print(col)\n",
        "\n",
        "print(data)"
      ],
      "metadata": {
        "id": "7lauklruhg93"
      },
      "execution_count": null,
      "outputs": []
    },
    {
      "cell_type": "code",
      "source": [
        "# presentation\n",
        "\n",
        "age = data.age\n",
        "bp = data.bp\n",
        "\n",
        "plt.scatter(age,bp)\n",
        "plt.xlabel('Age', fontsize = 14)\n",
        "plt.ylabel('Blood Pressure', fontsize = 14)\n",
        "plt.title('Age Vs. Blood Pressure', fontsize = 16)\n",
        "plt.xticks(fontsize = 12)\n",
        "plt.yticks(fontsize = 12)\n",
        "\n",
        "\n",
        "plt.savefig(\"scatter_bp.png\", bbox_inches='tight')\n",
        "files.download(\"scatter_bp.png\")"
      ],
      "metadata": {
        "id": "eO2F5xPoh4n6"
      },
      "execution_count": null,
      "outputs": []
    },
    {
      "cell_type": "markdown",
      "source": [
        "Regression + presentation of regression"
      ],
      "metadata": {
        "id": "KubRfMRSh7lR"
      }
    },
    {
      "cell_type": "code",
      "source": [
        "#regression using sklearn\n",
        "x = np.reshape(age, (len(age), 1))\n",
        "y = np.reshape(bp, (len(bp), 1))\n",
        "regr_model = LinearRegression().fit(x, y)\n",
        "b0 = regr_model.intercept_\n",
        "b1 = regr_model.coef_\n",
        "print(f'b0 = {np.round(b0, 4)}, b1 = {np.round(b1, 4)}')\n",
        "\n",
        "\n",
        "yhat = b0+b1*x\n",
        "\n",
        "plt.scatter(x,y)\n",
        "plt.plot(x,yhat, color = 'lime')\n",
        "plt.xlabel('Age', fontsize = 14)\n",
        "plt.ylabel('Blood Pressure', fontsize = 14)\n",
        "plt.xticks(fontsize = 12)\n",
        "plt.yticks(fontsize = 12)\n",
        "\n",
        "plt.title(f'blood pressure = {np.round(b0[0],2)}+{np.round(b1[0][0],2)}$\\cdot$age')\n",
        "plt.savefig(\"bp_reg.png\", bbox_inches='tight')\n",
        "files.download(\"bp_reg.png\")"
      ],
      "metadata": {
        "id": "baiN2987h7IU"
      },
      "execution_count": null,
      "outputs": []
    },
    {
      "cell_type": "markdown",
      "source": [
        "Caclulations for the confidence intervals"
      ],
      "metadata": {
        "id": "6R8pQ2vBiANO"
      }
    },
    {
      "cell_type": "code",
      "source": [
        "#calculate sum of squares\n",
        "N = len(x)\n",
        "SSres = np.dot(np.squeeze(y-yhat),np.squeeze(y-yhat))\n",
        "\n",
        "print(f'SSres = {SSres}')\n",
        "\n",
        "SSreg = np.dot(np.squeeze(yhat-y.mean()),np.squeeze(yhat-y.mean()))\n",
        "print(f'SSreg = {SSreg}')\n",
        "\n",
        "#calculate Syx\n",
        "Syx2 = SSres/(N-2)\n",
        "print(f'Syx2 = {Syx2}')\n",
        "\n",
        "#calculate variance of coefficients\n",
        "X = np.squeeze(np.array([np.ones_like(x), x])).T\n",
        "Sb2 = Syx2*np.linalg.inv(X.T@X)*np.eye(2)\n",
        "\n",
        "print(Sb2)\n",
        "\n",
        "Sb = Sb2**0.5\n",
        "print(Sb)"
      ],
      "metadata": {
        "id": "zJpYr15aiDhg"
      },
      "execution_count": null,
      "outputs": []
    },
    {
      "cell_type": "markdown",
      "source": [
        "And the confidence intervals themselves"
      ],
      "metadata": {
        "id": "gznn05gbiRt2"
      }
    },
    {
      "cell_type": "code",
      "source": [
        "#confidence intervals for coefficients\n",
        "CI_b0 = b0+Sb[0,0]*stats.t.ppf([0.04,0.96],N-2)\n",
        "CI_b1 = b1+Sb[1,1]*stats.t.ppf([0.04,0.96],N-2)\n",
        "\n",
        "print(f'CI for b0 = {CI_b0}')\n",
        "print(f'CI for b1 = {CI_b1}')"
      ],
      "metadata": {
        "id": "TDr1dhOeiTvZ"
      },
      "execution_count": null,
      "outputs": []
    }
  ]
}